{
 "cells": [
  {
   "cell_type": "code",
   "execution_count": null,
   "metadata": {},
   "outputs": [],
   "source": []
  },
  {
   "cell_type": "code",
   "execution_count": 13,
   "metadata": {
    "scrolled": true
   },
   "outputs": [
    {
     "name": "stdout",
     "output_type": "stream",
     "text": [
      "请输入待查询的名字：刘盼\n"
     ]
    },
    {
     "data": {
      "text/html": [
       "<table border=\"1\" class=\"dataframe\">\n",
       "    <thead>\n",
       "        <tr>\n",
       "            <th>学号</th> <th>姓名</th> <th>日期</th> <th>时间</th> <th>教室</th> <th>科目</th>\n",
       "        </tr>\n",
       "    </thead>\n",
       "    <tbody>\n",
       "        <tr>\n",
       "            <td>2020145105</td> <td>胡站瑜 </td> <td>2022/11/14</td> <td>14:30-16:30</td> <td>教一504 </td> <td>hadoop</td>\n",
       "        </tr>\n",
       "        <tr>\n",
       "            <td>2020145106</td> <td>刘潇  </td> <td>2022/11/14</td> <td>14:30-16:30</td> <td>教一505 </td> <td>hadoop</td>\n",
       "        </tr>\n",
       "        <tr>\n",
       "            <td>2020145107</td> <td>王彪  </td> <td>2022/11/14</td> <td>14:30-16:30</td> <td>教一506 </td> <td>hadoop</td>\n",
       "        </tr>\n",
       "        <tr>\n",
       "            <td>2020145108</td> <td>吴宏月 </td> <td>2022/11/14</td> <td>14:30-16:30</td> <td>教二108 </td> <td>hadoop</td>\n",
       "        </tr>\n",
       "        <tr>\n",
       "            <td>2020145109</td> <td>李素瑶 </td> <td>2022/11/14</td> <td>14:30-16:30</td> <td>教二109 </td> <td>hadoop</td>\n",
       "        </tr>\n",
       "        <tr>\n",
       "            <td>2020145111</td> <td>马福俊 </td> <td>2022/11/14</td> <td>14:30-16:30</td> <td>教二110 </td> <td>hadoop</td>\n",
       "        </tr>\n",
       "        <tr>\n",
       "            <td>2020145114</td> <td>谢雨馨 </td> <td>2022/11/14</td> <td>14:30-16:30</td> <td>理一A311</td> <td>hadoop</td>\n",
       "        </tr>\n",
       "        <tr>\n",
       "            <td>2020145115</td> <td>朱兴奇 </td> <td>2022/11/14</td> <td>14:30-16:30</td> <td>理一A312</td> <td>hadoop</td>\n",
       "        </tr>\n",
       "        <tr>\n",
       "            <td>2020145119</td> <td>杨梦莹 </td> <td>2022/11/14</td> <td>14:30-16:30</td> <td>理一A313</td> <td>hadoop</td>\n",
       "        </tr>\n",
       "        <tr>\n",
       "            <td>2020145120</td> <td>代兴莉 </td> <td>2022/11/14</td> <td>14:30-16:30</td> <td>理一A314</td> <td>hadoop</td>\n",
       "        </tr>\n",
       "        <tr>\n",
       "            <td>2020145121</td> <td>温纯丽 </td> <td>2022/11/14</td> <td>14:30-16:30</td> <td>理一B310</td> <td>hadoop</td>\n",
       "        </tr>\n",
       "        <tr>\n",
       "            <td>2020145122</td> <td>殷光蝶 </td> <td>2022/11/14</td> <td>14:30-16:30</td> <td>理一B311</td> <td>hadoop</td>\n",
       "        </tr>\n",
       "        <tr>\n",
       "            <td>2020145123</td> <td>刘盼  </td> <td>2022/11/14</td> <td>14:30-16:30</td> <td>理一B312</td> <td>hadoop</td>\n",
       "        </tr>\n",
       "    </tbody>\n",
       "</table>"
      ],
      "text/plain": [
       "<IPython.core.display.HTML object>"
      ]
     },
     "metadata": {},
     "output_type": "display_data"
    },
    {
     "data": {
      "text/html": [
       "<table border=\"1\" class=\"dataframe\">\n",
       "    <thead>\n",
       "        <tr>\n",
       "            <th>日期</th> <th>时间</th> <th>科目</th> <th>教室</th>\n",
       "        </tr>\n",
       "    </thead>\n",
       "    <tbody>\n",
       "        <tr>\n",
       "            <td>['2022/11/14']</td> <td>['14:30-16:30']</td> <td>['hadoop']</td> <td>['理一B312']</td>\n",
       "        </tr>\n",
       "        <tr>\n",
       "            <td>[]            </td> <td>[]             </td> <td>[]        </td> <td>[]        </td>\n",
       "        </tr>\n",
       "        <tr>\n",
       "            <td>['2022/11/15']</td> <td>['8:30-10:30'] </td> <td>['spark'] </td> <td>['理一A313']</td>\n",
       "        </tr>\n",
       "        <tr>\n",
       "            <td>['2022/11/14']</td> <td>['8:30-10:30'] </td> <td>['高数']    </td> <td>['理一A313']</td>\n",
       "        </tr>\n",
       "    </tbody>\n",
       "</table>"
      ],
      "text/plain": [
       "日期             | 时间              | 科目         | 教室\n",
       "['2022/11/14'] | ['14:30-16:30'] | ['hadoop'] | ['理一B312']\n",
       "[]             | []              | []         | []\n",
       "['2022/11/15'] | ['8:30-10:30']  | ['spark']  | ['理一A313']\n",
       "['2022/11/14'] | ['8:30-10:30']  | ['高数']     | ['理一A313']"
      ]
     },
     "execution_count": 13,
     "metadata": {},
     "output_type": "execute_result"
    }
   ],
   "source": [
    "import datascience\n",
    "from datascience import *\n",
    "\n",
    "def extract_table(data,name):\n",
    "    table1 = data.where(\"姓名\",name)\n",
    "    date = table1[2]\n",
    "    time = table1[3]\n",
    "    subject = table1[4]\n",
    "    classroom = table1[5]\n",
    "    return [date,time,subject,classroom]\n",
    "\n",
    "name = input('请输入待查询的名字：')\n",
    "\n",
    "form1 = Table.read_table('hadoop.csv')\n",
    "form2 = Table.read_table('hive.csv')\n",
    "form3 = Table.read_table('spark.csv')\n",
    "form4 = Table.read_table('高数监考表.csv')\n",
    "\n",
    "form1.show()\n",
    "          \n",
    "column0 = extract_table(form1,name)\n",
    "column1 = extract_table(form2,name)\n",
    "column2 = extract_table(form3,name)\n",
    "column3 = extract_table(form4,name)\n",
    "\n",
    "\n",
    "date = (column0[0],column1[0],column2[0],column3[0])\n",
    "time = (column0[1],column1[1],column2[1],column3[1])\n",
    "subject = (column0[3],column1[3],column2[3],column3[3])\n",
    "classroom = (column0[2],column1[2],column2[2],column3[2])\n",
    "\n",
    "results=Table().with_columns(\"日期\",date,\"时间\",time,\"科目\",subject,\"教室\",classroom)\n",
    "results\n",
    "\n",
    "\n"
   ]
  },
  {
   "cell_type": "code",
   "execution_count": null,
   "metadata": {},
   "outputs": [],
   "source": []
  },
  {
   "cell_type": "code",
   "execution_count": null,
   "metadata": {},
   "outputs": [],
   "source": []
  },
  {
   "cell_type": "code",
   "execution_count": null,
   "metadata": {},
   "outputs": [],
   "source": []
  }
 ],
 "metadata": {
  "kernelspec": {
   "display_name": "Python 3 (ipykernel)",
   "language": "python",
   "name": "python3"
  },
  "language_info": {
   "codemirror_mode": {
    "name": "ipython",
    "version": 3
   },
   "file_extension": ".py",
   "mimetype": "text/x-python",
   "name": "python",
   "nbconvert_exporter": "python",
   "pygments_lexer": "ipython3",
   "version": "3.9.13"
  }
 },
 "nbformat": 4,
 "nbformat_minor": 2
}
