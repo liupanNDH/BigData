{
 "cells": [
  {
   "cell_type": "code",
   "execution_count": 14,
   "metadata": {
    "scrolled": true
   },
   "outputs": [
    {
     "name": "stdout",
     "output_type": "stream",
     "text": [
      "Requirement already satisfied: datascience in d:\\anaconda\\lib\\site-packages (0.17.5)Note: you may need to restart the kernel to use updated packages.\n",
      "\n",
      "Requirement already satisfied: folium>=0.9.1 in d:\\anaconda\\lib\\site-packages (from datascience) (0.13.0)\n",
      "Requirement already satisfied: scipy in d:\\anaconda\\lib\\site-packages (from datascience) (1.9.1)\n",
      "Requirement already satisfied: matplotlib>=3.0.0 in d:\\anaconda\\lib\\site-packages (from datascience) (3.5.2)\n",
      "Requirement already satisfied: pandas in d:\\anaconda\\lib\\site-packages (from datascience) (1.4.4)\n",
      "Requirement already satisfied: ipython in d:\\anaconda\\lib\\site-packages (from datascience) (7.31.1)\n",
      "Requirement already satisfied: branca in d:\\anaconda\\lib\\site-packages (from datascience) (0.6.0)\n",
      "Requirement already satisfied: numpy in d:\\anaconda\\lib\\site-packages (from datascience) (1.21.5)\n",
      "Requirement already satisfied: setuptools in d:\\anaconda\\lib\\site-packages (from datascience) (63.4.1)\n",
      "Requirement already satisfied: plotly in d:\\anaconda\\lib\\site-packages (from datascience) (5.9.0)\n",
      "Requirement already satisfied: requests in d:\\anaconda\\lib\\site-packages (from folium>=0.9.1->datascience) (2.28.1)\n",
      "Requirement already satisfied: jinja2>=2.9 in d:\\anaconda\\lib\\site-packages (from folium>=0.9.1->datascience) (2.11.3)\n",
      "Requirement already satisfied: pyparsing>=2.2.1 in d:\\anaconda\\lib\\site-packages (from matplotlib>=3.0.0->datascience) (3.0.9)\n",
      "Requirement already satisfied: kiwisolver>=1.0.1 in d:\\anaconda\\lib\\site-packages (from matplotlib>=3.0.0->datascience) (1.4.2)\n",
      "Requirement already satisfied: cycler>=0.10 in d:\\anaconda\\lib\\site-packages (from matplotlib>=3.0.0->datascience) (0.11.0)\n",
      "Requirement already satisfied: pillow>=6.2.0 in d:\\anaconda\\lib\\site-packages (from matplotlib>=3.0.0->datascience) (9.2.0)\n",
      "Requirement already satisfied: fonttools>=4.22.0 in d:\\anaconda\\lib\\site-packages (from matplotlib>=3.0.0->datascience) (4.25.0)\n",
      "Requirement already satisfied: python-dateutil>=2.7 in d:\\anaconda\\lib\\site-packages (from matplotlib>=3.0.0->datascience) (2.8.2)\n",
      "Requirement already satisfied: packaging>=20.0 in d:\\anaconda\\lib\\site-packages (from matplotlib>=3.0.0->datascience) (21.3)\n",
      "Requirement already satisfied: jedi>=0.16 in d:\\anaconda\\lib\\site-packages (from ipython->datascience) (0.18.1)\n",
      "Requirement already satisfied: matplotlib-inline in d:\\anaconda\\lib\\site-packages (from ipython->datascience) (0.1.6)\n",
      "Requirement already satisfied: colorama in d:\\anaconda\\lib\\site-packages (from ipython->datascience) (0.4.5)\n",
      "Requirement already satisfied: prompt-toolkit!=3.0.0,!=3.0.1,<3.1.0,>=2.0.0 in d:\\anaconda\\lib\\site-packages (from ipython->datascience) (3.0.20)\n",
      "Requirement already satisfied: pickleshare in d:\\anaconda\\lib\\site-packages (from ipython->datascience) (0.7.5)\n",
      "Requirement already satisfied: traitlets>=4.2 in d:\\anaconda\\lib\\site-packages (from ipython->datascience) (5.1.1)\n",
      "Requirement already satisfied: pygments in d:\\anaconda\\lib\\site-packages (from ipython->datascience) (2.11.2)\n",
      "Requirement already satisfied: decorator in d:\\anaconda\\lib\\site-packages (from ipython->datascience) (5.1.1)\n",
      "Requirement already satisfied: backcall in d:\\anaconda\\lib\\site-packages (from ipython->datascience) (0.2.0)\n",
      "Requirement already satisfied: pytz>=2020.1 in d:\\anaconda\\lib\\site-packages (from pandas->datascience) (2022.1)\n",
      "Requirement already satisfied: tenacity>=6.2.0 in d:\\anaconda\\lib\\site-packages (from plotly->datascience) (8.0.1)\n",
      "Requirement already satisfied: parso<0.9.0,>=0.8.0 in d:\\anaconda\\lib\\site-packages (from jedi>=0.16->ipython->datascience) (0.8.3)\n",
      "Requirement already satisfied: MarkupSafe>=0.23 in d:\\anaconda\\lib\\site-packages (from jinja2>=2.9->folium>=0.9.1->datascience) (2.0.1)\n",
      "Requirement already satisfied: wcwidth in d:\\anaconda\\lib\\site-packages (from prompt-toolkit!=3.0.0,!=3.0.1,<3.1.0,>=2.0.0->ipython->datascience) (0.2.5)\n",
      "Requirement already satisfied: six>=1.5 in d:\\anaconda\\lib\\site-packages (from python-dateutil>=2.7->matplotlib>=3.0.0->datascience) (1.16.0)\n",
      "Requirement already satisfied: charset-normalizer<3,>=2 in d:\\anaconda\\lib\\site-packages (from requests->folium>=0.9.1->datascience) (2.0.4)\n",
      "Requirement already satisfied: certifi>=2017.4.17 in d:\\anaconda\\lib\\site-packages (from requests->folium>=0.9.1->datascience) (2022.9.14)\n",
      "Requirement already satisfied: idna<4,>=2.5 in d:\\anaconda\\lib\\site-packages (from requests->folium>=0.9.1->datascience) (3.3)\n",
      "Requirement already satisfied: urllib3<1.27,>=1.21.1 in d:\\anaconda\\lib\\site-packages (from requests->folium>=0.9.1->datascience) (1.26.11)\n"
     ]
    }
   ],
   "source": [
    "pip install datascience"
   ]
  },
  {
   "cell_type": "code",
   "execution_count": 7,
   "metadata": {
    "scrolled": false
   },
   "outputs": [
    {
     "name": "stdout",
     "output_type": "stream",
     "text": [
      "请输入要查询的名字：黄思哲\n",
      "请输入要查询的名字：周靖珊\n"
     ]
    },
    {
     "data": {
      "text/html": [
       "<table border=\"1\" class=\"dataframe\">\n",
       "    <thead>\n",
       "        <tr>\n",
       "            <th>排名1</th> <th>排名2</th>\n",
       "        </tr>\n",
       "    </thead>\n",
       "    <tbody>\n",
       "        <tr>\n",
       "            <td>512 </td> <td>364 </td>\n",
       "        </tr>\n",
       "        <tr>\n",
       "            <td>419 </td> <td>443 </td>\n",
       "        </tr>\n",
       "        <tr>\n",
       "            <td>417 </td> <td>350 </td>\n",
       "        </tr>\n",
       "        <tr>\n",
       "            <td>467 </td> <td>429 </td>\n",
       "        </tr>\n",
       "        <tr>\n",
       "            <td>492 </td> <td>273 </td>\n",
       "        </tr>\n",
       "        <tr>\n",
       "            <td>632 </td> <td>296 </td>\n",
       "        </tr>\n",
       "        <tr>\n",
       "            <td>595 </td> <td>305 </td>\n",
       "        </tr>\n",
       "    </tbody>\n",
       "</table>"
      ],
      "text/plain": [
       "<IPython.core.display.HTML object>"
      ]
     },
     "metadata": {},
     "output_type": "display_data"
    },
    {
     "data": {
      "image/png": "[encoded data removed]",
      "text/plain": [
       "<Figure size 432x288 with 1 Axes>"
      ]
     },
     "metadata": {
      "needs_background": "light"
     },
     "output_type": "display_data"
    }
   ],
   "source": [
    "import datascience \n",
    "import matplotlib\n",
    "import matplotlib.pyplot as plt\n",
    "from datascience import *\n",
    "matplotlib.use('TkAgg')\n",
    "%matplotlib inline\n",
    "\n",
    "\n",
    "def extract_rank(data,name):\n",
    "    temp=data.where('姓名',are.equal_to(name)).column(11).item(0)\n",
    "    return temp\n",
    "\n",
    "form1=Table.read_table('20211105-utf-8.csv')\n",
    "form2=Table.read_table('20211106-utf-8.csv')\n",
    "form3=Table.read_table('20211107-utf-8.csv')\n",
    "form4=Table.read_table('20211108-utf-8.csv')\n",
    "form5=Table.read_table('20211109-utf-8.csv')\n",
    "form6=Table.read_table('20211109-1-utf-8.csv')\n",
    "form7=Table.read_table('20211110-utf-8.csv')\n",
    "\n",
    "student1 = input('请输入要查询的名字：')\n",
    "student2 = input('请输入要查询的名字：')\n",
    "\n",
    "rank1=extract_rank(form1,student1)\n",
    "rank2=extract_rank(form2,student1)\n",
    "rank3=extract_rank(form3,student1)\n",
    "rank4=extract_rank(form4,student1)\n",
    "rank5=extract_rank(form5,student1)\n",
    "rank6=extract_rank(form6,student1)\n",
    "rank7=extract_rank(form7,student1)\n",
    "\n",
    "rank21=extract_rank(form1,student2)\n",
    "rank22=extract_rank(form2,student2)\n",
    "rank23=extract_rank(form3,student2)\n",
    "rank24=extract_rank(form4,student2)\n",
    "rank25=extract_rank(form5,student2)\n",
    "rank26=extract_rank(form6,student2)\n",
    "rank27=extract_rank(form7,student2)\n",
    "\n",
    "rank_array1=make_array(rank1,rank2,rank3,rank4,rank5,rank6,rank7)\n",
    "rank_array2=make_array(rank21,rank22,rank23,rank24,rank25,rank26,rank27)\n",
    "result1=Table().with_columns('排名1',rank_array1,'排名2',rank_array2)\n",
    "result1.show()\n",
    "\n",
    "plt.plot(make_array(1,2,3,4,5,6,7),rank_array1,'o--',label=student1)\n",
    "plt.plot(make_array(1,2,3,4,5,6,7),rank_array2,'o--r',label=student2)\n",
    "\n",
    "plt.title(student1 +'和'+ student2 + '历次年级排名比对图')\n",
    "plt.xlabel('历次考试')\n",
    "plt.ylabel('历次年级RANK')\n",
    "\n",
    "plt.axis([0,10,0,750])\n",
    "plt.legend(loc='upper right')\n",
    "plt.rcParams['font.sans-serif']=['Microsoft YaHei']\n",
    "\n",
    "plt.grid()\n",
    "plt.show()\n"
   ]
  },
  {
   "cell_type": "code",
   "execution_count": null,
   "metadata": {},
   "outputs": [],
   "source": []
  },
  {
   "cell_type": "code",
   "execution_count": null,
   "metadata": {},
   "outputs": [],
   "source": []
  },
  {
   "cell_type": "code",
   "execution_count": null,
   "metadata": {},
   "outputs": [],
   "source": []
  }
 ],
 "metadata": {
  "kernelspec": {
   "display_name": "Python 3 (ipykernel)",
   "language": "python",
   "name": "python3"
  },
  "language_info": {
   "codemirror_mode": {
    "name": "ipython",
    "version": 3
   },
   "file_extension": ".py",
   "mimetype": "text/x-python",
   "name": "python",
   "nbconvert_exporter": "python",
   "pygments_lexer": "ipython3",
   "version": "3.9.13"
  }
 },
 "nbformat": 4,
 "nbformat_minor": 2
}
